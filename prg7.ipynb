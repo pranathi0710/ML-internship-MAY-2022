{
 "cells": [
  {
   "cell_type": "code",
   "execution_count": null,
   "id": "f1896f3e",
   "metadata": {},
   "outputs": [],
   "source": [
    "def function(n):\n",
    "    for i in range(0,n):\n",
    "        if(i%2==0):\n",
    "            print(\"I CAN\")\n",
    "        else:\n",
    "            print(\"I WILL\")\n",
    "function(10)\n"
   ]
  }
 ],
 "metadata": {
  "kernelspec": {
   "display_name": "Python 3 (ipykernel)",
   "language": "python",
   "name": "python3"
  },
  "language_info": {
   "codemirror_mode": {
    "name": "ipython",
    "version": 3
   },
   "file_extension": ".py",
   "mimetype": "text/x-python",
   "name": "python",
   "nbconvert_exporter": "python",
   "pygments_lexer": "ipython3",
   "version": "3.10.4"
  }
 },
 "nbformat": 4,
 "nbformat_minor": 5
}
