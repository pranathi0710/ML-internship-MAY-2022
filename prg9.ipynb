{
 "cells": [
  {
   "cell_type": "code",
   "execution_count": null,
   "id": "d9b2f324",
   "metadata": {},
   "outputs": [],
   "source": [
    "def consecutive_combo(a,b):\n",
    "    c=a+b\n",
    "    c.sort()\n",
    "    print(c)\n",
    "    for i in range(1,len(c)):\n",
    "        if(c[i]-c[i-1]==1):\n",
    "            continue\n",
    "        else:\n",
    "            return False\n",
    "    return True\n",
    "a=[1,2,3]\n",
    "b=[4,5,6]\n",
    "print(consecutive_combo(a,b))\n"
   ]
  }
 ],
 "metadata": {
  "kernelspec": {
   "display_name": "Python 3 (ipykernel)",
   "language": "python",
   "name": "python3"
  },
  "language_info": {
   "codemirror_mode": {
    "name": "ipython",
    "version": 3
   },
   "file_extension": ".py",
   "mimetype": "text/x-python",
   "name": "python",
   "nbconvert_exporter": "python",
   "pygments_lexer": "ipython3",
   "version": "3.10.4"
  }
 },
 "nbformat": 4,
 "nbformat_minor": 5
}
