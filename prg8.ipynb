{
 "cells": [
  {
   "cell_type": "code",
   "execution_count": null,
   "id": "bea4d10b",
   "metadata": {},
   "outputs": [],
   "source": [
    "def function(li):\n",
    "    li.sort()\n",
    "    rev=li\n",
    "    rev.reverse()\n",
    "    pairs=0\n",
    "    i=0\n",
    "    while(i < len(li)):\n",
    "        t=li.count(li[i])\n",
    "        pairs=pairs+t//2\n",
    "        i=i+t\n",
    "    return pairs\n",
    "li=[1,2,1,2,1,3,2]\n",
    "print(function(li))\n",
    "        \n"
   ]
  }
 ],
 "metadata": {
  "kernelspec": {
   "display_name": "Python 3 (ipykernel)",
   "language": "python",
   "name": "python3"
  },
  "language_info": {
   "codemirror_mode": {
    "name": "ipython",
    "version": 3
   },
   "file_extension": ".py",
   "mimetype": "text/x-python",
   "name": "python",
   "nbconvert_exporter": "python",
   "pygments_lexer": "ipython3",
   "version": "3.10.4"
  }
 },
 "nbformat": 4,
 "nbformat_minor": 5
}
