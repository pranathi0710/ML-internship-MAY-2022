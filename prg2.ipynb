{
 "cells": [
  {
   "cell_type": "code",
   "execution_count": null,
   "id": "81b63d57",
   "metadata": {},
   "outputs": [],
   "source": [
    "def relation_to_luke(n):\n",
    "    if(n==\"Darth Vader\"):\n",
    "        return \"Luke, I am your father.\"\n",
    "    if(n==\"Leia\"):\n",
    "        return \"Luke, I am your sister.\"\n",
    "    if(n==\"Han\"):\n",
    "        return \"Luke, I am your brother in law.\"\n",
    "    if(n==\"R2D2\"):\n",
    "        return \"Luke, I am your droid.\"\n",
    "n=input(\"Enter the name\")\n",
    "print(relation_to_luke(n))\n"
   ]
  }
 ],
 "metadata": {
  "kernelspec": {
   "display_name": "Python 3 (ipykernel)",
   "language": "python",
   "name": "python3"
  },
  "language_info": {
   "codemirror_mode": {
    "name": "ipython",
    "version": 3
   },
   "file_extension": ".py",
   "mimetype": "text/x-python",
   "name": "python",
   "nbconvert_exporter": "python",
   "pygments_lexer": "ipython3",
   "version": "3.10.4"
  }
 },
 "nbformat": 4,
 "nbformat_minor": 5
}
