{
 "cells": [
  {
   "cell_type": "code",
   "execution_count": null,
   "id": "b78672cc",
   "metadata": {},
   "outputs": [],
   "source": [
    "def profit(cp,sp,inv):\n",
    "    return round(((sp-cp)*inv))\n",
    "print(profit(32.67,45,1200))\n"
   ]
  }
 ],
 "metadata": {
  "kernelspec": {
   "display_name": "Python 3 (ipykernel)",
   "language": "python",
   "name": "python3"
  },
  "language_info": {
   "codemirror_mode": {
    "name": "ipython",
    "version": 3
   },
   "file_extension": ".py",
   "mimetype": "text/x-python",
   "name": "python",
   "nbconvert_exporter": "python",
   "pygments_lexer": "ipython3",
   "version": "3.10.4"
  }
 },
 "nbformat": 4,
 "nbformat_minor": 5
}
