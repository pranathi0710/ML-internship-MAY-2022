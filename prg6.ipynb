{
 "cells": [
  {
   "cell_type": "code",
   "execution_count": null,
   "id": "1af9a078",
   "metadata": {},
   "outputs": [],
   "source": [
    "def function(n1,n2,o):\n",
    "    if(o=='+'):\n",
    "        return n1+n2\n",
    "    if(o=='-'):\n",
    "        return n1-n2\n",
    "    if(o=='*'):\n",
    "        return n1*n2\n",
    "    if(o=='/'):\n",
    "        return n1/n2\n",
    "print(function(3,2,'+'))\n"
   ]
  }
 ],
 "metadata": {
  "kernelspec": {
   "display_name": "Python 3 (ipykernel)",
   "language": "python",
   "name": "python3"
  },
  "language_info": {
   "codemirror_mode": {
    "name": "ipython",
    "version": 3
   },
   "file_extension": ".py",
   "mimetype": "text/x-python",
   "name": "python",
   "nbconvert_exporter": "python",
   "pygments_lexer": "ipython3",
   "version": "3.10.4"
  }
 },
 "nbformat": 4,
 "nbformat_minor": 5
}
